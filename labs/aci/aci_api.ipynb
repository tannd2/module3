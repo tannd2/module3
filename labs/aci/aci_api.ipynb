{
 "cells": [
  {
   "cell_type": "code",
   "execution_count": 18,
   "metadata": {},
   "outputs": [
    {
     "name": "stderr",
     "output_type": "stream",
     "text": [
      "/usr/lib/python3/dist-packages/urllib3/connectionpool.py:1015: InsecureRequestWarning: Unverified HTTPS request is being made to host 'sandboxapicdc.cisco.com'. Adding certificate verification is strongly advised. See: https://urllib3.readthedocs.io/en/latest/advanced-usage.html#ssl-warnings\n",
      "  warnings.warn(\n"
     ]
    }
   ],
   "source": [
    "import requests\n",
    "\n",
    "url = \"https://sandboxapicdc.cisco.com/api/aaaLogin.json\"\n",
    "\n",
    "body = {\n",
    "  \"aaaUser\": {\n",
    "    \"attributes\": {\n",
    "      \"name\": \"admin\",\n",
    "      \"pwd\": \"!v3G@!4@Y\"\n",
    "    }\n",
    "  }\n",
    "}\n",
    "\n",
    "response1 = requests.post(url, json=body, verify=False)\n",
    "\n",
    "\n"
   ]
  },
  {
   "cell_type": "code",
   "execution_count": 19,
   "metadata": {},
   "outputs": [
    {
     "name": "stderr",
     "output_type": "stream",
     "text": [
      "/usr/lib/python3/dist-packages/urllib3/connectionpool.py:1015: InsecureRequestWarning: Unverified HTTPS request is being made to host 'sandboxapicdc.cisco.com'. Adding certificate verification is strongly advised. See: https://urllib3.readthedocs.io/en/latest/advanced-usage.html#ssl-warnings\n",
      "  warnings.warn(\n"
     ]
    },
    {
     "data": {
      "text/plain": [
       "200"
      ]
     },
     "execution_count": 19,
     "metadata": {},
     "output_type": "execute_result"
    }
   ],
   "source": [
    "import requests\n",
    "\n",
    "url = \"https://sandboxapicdc.cisco.com/api/node/class/fvTenant.json\"\n",
    "\n",
    "cookies=response1.cookies\n",
    "\n",
    "response2 = requests.get(url, cookies=cookies, verify=False)\n",
    "\n",
    "response2.status_code\n"
   ]
  },
  {
   "cell_type": "code",
   "execution_count": 24,
   "metadata": {},
   "outputs": [
    {
     "name": "stdout",
     "output_type": "stream",
     "text": [
      "infra\n",
      "common\n",
      "mgmt\n",
      "Heroes\n",
      "SnV\n",
      "oneaciapp\n",
      "1-tn-x\n",
      "am-tn-1\n",
      "am-tn-2\n",
      "am-tn-3\n",
      "TST\n",
      "JBZ\n",
      "THIS_Tenant\n",
      "Demo_Video_tenant\n",
      "tenant_public\n",
      "Philbar\n",
      "PythonTenant\n",
      "ACIAUTOMATION-Test\n",
      "Shaker\n",
      "Can_Tenant\n",
      "js_1002218\n",
      "CHANGEME\n",
      "DCACI\n",
      "TEA\n",
      "TNK\n",
      "Unt1\n",
      "S2TBK\n",
      "MF-Tenant\n"
     ]
    }
   ],
   "source": [
    "tenants=response2.json()[\"imdata\"]\n",
    "for tenant in tenants:\n",
    "    print(tenant[\"fvTenant\"][\"attributes\"][\"name\"])\n"
   ]
  }
 ],
 "metadata": {
  "interpreter": {
   "hash": "916dbcbb3f70747c44a77c7bcd40155683ae19c65e1c03b4aa3499c5328201f1"
  },
  "kernelspec": {
   "display_name": "Python 3.10.4 64-bit",
   "language": "python",
   "name": "python3"
  },
  "language_info": {
   "codemirror_mode": {
    "name": "ipython",
    "version": 3
   },
   "file_extension": ".py",
   "mimetype": "text/x-python",
   "name": "python",
   "nbconvert_exporter": "python",
   "pygments_lexer": "ipython3",
   "version": "3.10.4"
  },
  "orig_nbformat": 4
 },
 "nbformat": 4,
 "nbformat_minor": 2
}
