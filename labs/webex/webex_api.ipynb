{
 "cells": [
  {
   "cell_type": "code",
   "execution_count": null,
   "metadata": {},
   "outputs": [],
   "source": [
    "import requests\n",
    "\n",
    "webex_token=\"MmUzMDViNjAtNjI5YS00MTMyLWE0ZDItZmY3NWUwOTkwMzQ1ZjM3NDg3ZTUtMmU1_P0A1_f339566d-b6a8-4b98-a4bb-08dad1980264\"\n",
    "\n",
    "message_url = \"https://webexapis.com/v1/messages?roomId=Y2lzY29zcGFyazovL3VybjpURUFNOnVzLXdlc3QtMl9yL1JPT00vNDYzN2YyZTAtZDUwNC0xMWVjLTlmYWEtZTExMTRlYjU1ZDgy\"\n",
    "\n",
    "hdrs = {\n",
    "  \"Authorization\": f\"Bearer {webex_token}\"\n",
    "}\n",
    "response=requests.get(url=message_url, headers=hdrs)\n",
    "#print(response.status_code)\n",
    "#print(response.headers)\n",
    "message=response.json()[\"items\"]\n",
    "\n",
    "print(message[2]['personEmail'])\n",
    "message[2]['text']"
   ]
  },
  {
   "cell_type": "code",
   "execution_count": null,
   "metadata": {},
   "outputs": [],
   "source": [
    "for message in message:\n",
    "  print(message['personEmail'], message['text'], sep=': ')\n"
   ]
  },
  {
   "cell_type": "code",
   "execution_count": null,
   "metadata": {},
   "outputs": [],
   "source": [
    "import requests\n",
    "from api import token\n",
    "\n",
    "message_url = \"https://webexapis.com/v1/messages\"\n",
    "\n",
    "query_para={\n",
    "  \"roomID\":\"Y2lzY29zcGFyazovL3VybjpURUFNOnVzLXdlc3QtMl9yL1JPT00vNDYzN2YyZTAtZDUwNC0xMWVjLTlmYWEtZTExMTRlYjU1ZDgy\"\n",
    "}\n",
    "\n",
    "hdrs = {\n",
    "  \"Authorization\": f\"Bearer {token}\"\n",
    "}\n",
    "response=requests.get(url=message_url, headers=hdrs, params=query_para)\n",
    "#print(response.status_code)\n",
    "#print(response.headers)\n",
    "message=response.json()\n",
    "\n",
    "print(message)\n",
    "\n"
   ]
  },
  {
   "cell_type": "code",
   "execution_count": null,
   "metadata": {},
   "outputs": [],
   "source": [
    "import requests\n",
    "from api import *\n",
    "\n",
    "url = base_url + \"/v1/messages\"\n",
    "\n",
    "headers = {\n",
    "  \"Authorization\": f\"Bearer {token}\"\n",
    "}\n",
    "\n",
    "body={\n",
    "    \"roomId\":\"Y2lzY29zcGFyazovL3VybjpURUFNOnVzLXdlc3QtMl9yL1JPT00vNDYzN2YyZTAtZDUwNC0xMWVjLTlmYWEtZTExMTRlYjU1ZDgy\",\n",
    "    \"text\":\"222222\"\n",
    "}\n",
    "\n",
    "\n",
    "response=requests.post(url, headers=headers, json=body)\n",
    "response\n",
    "\n"
   ]
  },
  {
   "cell_type": "code",
   "execution_count": 6,
   "metadata": {},
   "outputs": [
    {
     "name": "stdout",
     "output_type": "stream",
     "text": [
      "https://webexapis.com\n"
     ]
    }
   ],
   "source": [
    "import requests\n",
    "from api import *\n",
    "print(base_url)\n",
    "\n",
    "def send_message(email,text):\n",
    "    url = base_url + \"/v1/messages\"\n",
    "    headers = {\n",
    "        \"Authorization\": f\"Bearer {token}\"\n",
    "    }\n",
    "\n",
    "    body={\n",
    "        \"toPersonEmail\":email,\n",
    "        \"text\":text\n",
    "    }\n",
    "    response=requests.post(url, headers=headers, json=body)\n",
    "    print(email, response.status_code)\n"
   ]
  },
  {
   "cell_type": "code",
   "execution_count": 7,
   "metadata": {},
   "outputs": [],
   "source": [
    "email=['devnet.thuongta@gmail.com']"
   ]
  },
  {
   "cell_type": "code",
   "execution_count": 8,
   "metadata": {},
   "outputs": [
    {
     "name": "stdout",
     "output_type": "stream",
     "text": [
      "devnet.thuongta@gmail.com 200\n"
     ]
    }
   ],
   "source": [
    "send_message(email[0],'2222')"
   ]
  }
 ],
 "metadata": {
  "interpreter": {
   "hash": "916dbcbb3f70747c44a77c7bcd40155683ae19c65e1c03b4aa3499c5328201f1"
  },
  "kernelspec": {
   "display_name": "Python 3.10.4 64-bit",
   "language": "python",
   "name": "python3"
  },
  "language_info": {
   "codemirror_mode": {
    "name": "ipython",
    "version": 3
   },
   "file_extension": ".py",
   "mimetype": "text/x-python",
   "name": "python",
   "nbconvert_exporter": "python",
   "pygments_lexer": "ipython3",
   "version": "3.10.4"
  },
  "orig_nbformat": 4
 },
 "nbformat": 4,
 "nbformat_minor": 2
}
