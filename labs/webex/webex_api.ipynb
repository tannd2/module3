{
 "cells": [
  {
   "cell_type": "code",
   "execution_count": null,
   "metadata": {},
   "outputs": [],
   "source": [
    "import requests\n",
    "\n",
    "webex_token=\"MmUzMDViNjAtNjI5YS00MTMyLWE0ZDItZmY3NWUwOTkwMzQ1ZjM3NDg3ZTUtMmU1_P0A1_f339566d-b6a8-4b98-a4bb-08dad1980264\"\n",
    "\n",
    "message_url = \"https://webexapis.com/v1/messages?roomId=Y2lzY29zcGFyazovL3VybjpURUFNOnVzLXdlc3QtMl9yL1JPT00vNDYzN2YyZTAtZDUwNC0xMWVjLTlmYWEtZTExMTRlYjU1ZDgy\"\n",
    "\n",
    "hdrs = {\n",
    "  \"Authorization\": f\"Bearer {webex_token}\"\n",
    "}\n",
    "response=requests.get(url=message_url, headers=hdrs)\n",
    "#print(response.status_code)\n",
    "#print(response.headers)\n",
    "message=response.json()[\"items\"]\n",
    "\n",
    "print(message[2]['personEmail'])\n",
    "message[2]['text']"
   ]
  },
  {
   "cell_type": "code",
   "execution_count": null,
   "metadata": {},
   "outputs": [],
   "source": [
    "for message in message:\n",
    "  print(message['personEmail'], message['text'], sep=': ')\n"
   ]
  },
  {
   "cell_type": "code",
   "execution_count": 53,
   "metadata": {},
   "outputs": [
    {
     "ename": "ModuleNotFoundError",
     "evalue": "No module named 'api.py'; 'api' is not a package",
     "output_type": "error",
     "traceback": [
      "\u001b[0;31m---------------------------------------------------------------------------\u001b[0m",
      "\u001b[0;31mModuleNotFoundError\u001b[0m                       Traceback (most recent call last)",
      "\u001b[1;32m/home/osboxes/module3_tan/labs/webex/webex_api.ipynb Cell 3'\u001b[0m in \u001b[0;36m<cell line: 2>\u001b[0;34m()\u001b[0m\n\u001b[1;32m      <a href='vscode-notebook-cell://ssh-remote%2B192.168.2.194/home/osboxes/module3_tan/labs/webex/webex_api.ipynb#ch0000003vscode-remote?line=0'>1</a>\u001b[0m \u001b[39mimport\u001b[39;00m \u001b[39mrequests\u001b[39;00m\n\u001b[0;32m----> <a href='vscode-notebook-cell://ssh-remote%2B192.168.2.194/home/osboxes/module3_tan/labs/webex/webex_api.ipynb#ch0000003vscode-remote?line=1'>2</a>\u001b[0m \u001b[39mfrom\u001b[39;00m \u001b[39mapi\u001b[39;00m\u001b[39m.\u001b[39;00m\u001b[39mpy\u001b[39;00m \u001b[39mimport\u001b[39;00m token\n\u001b[1;32m      <a href='vscode-notebook-cell://ssh-remote%2B192.168.2.194/home/osboxes/module3_tan/labs/webex/webex_api.ipynb#ch0000003vscode-remote?line=3'>4</a>\u001b[0m message_url \u001b[39m=\u001b[39m \u001b[39m\"\u001b[39m\u001b[39mhttps://webexapis.com/v1/messages?roomId=Y2lzY29zcGFyazovL3VybjpURUFNOnVzLXdlc3QtMl9yL1JPT00vNDYzN2YyZTAtZDUwNC0xMWVjLTlmYWEtZTExMTRlYjU1ZDgy\u001b[39m\u001b[39m\"\u001b[39m\n\u001b[1;32m      <a href='vscode-notebook-cell://ssh-remote%2B192.168.2.194/home/osboxes/module3_tan/labs/webex/webex_api.ipynb#ch0000003vscode-remote?line=6'>7</a>\u001b[0m hdrs \u001b[39m=\u001b[39m {\n\u001b[1;32m      <a href='vscode-notebook-cell://ssh-remote%2B192.168.2.194/home/osboxes/module3_tan/labs/webex/webex_api.ipynb#ch0000003vscode-remote?line=7'>8</a>\u001b[0m   \u001b[39m\"\u001b[39m\u001b[39mAuthorization\u001b[39m\u001b[39m\"\u001b[39m: \u001b[39mf\u001b[39m\u001b[39m\"\u001b[39m\u001b[39mBearer \u001b[39m\u001b[39m{\u001b[39;00mtoken\u001b[39m}\u001b[39;00m\u001b[39m\"\u001b[39m\n\u001b[1;32m      <a href='vscode-notebook-cell://ssh-remote%2B192.168.2.194/home/osboxes/module3_tan/labs/webex/webex_api.ipynb#ch0000003vscode-remote?line=8'>9</a>\u001b[0m }\n",
      "\u001b[0;31mModuleNotFoundError\u001b[0m: No module named 'api.py'; 'api' is not a package"
     ]
    }
   ],
   "source": [
    "import requests\n",
    "from api import token\n",
    "\n",
    "message_url = \"https://webexapis.com/v1/messages?roomId=Y2lzY29zcGFyazovL3VybjpURUFNOnVzLXdlc3QtMl9yL1JPT00vNDYzN2YyZTAtZDUwNC0xMWVjLTlmYWEtZTExMTRlYjU1ZDgy\"\n",
    "\n",
    "\n",
    "hdrs = {\n",
    "  \"Authorization\": f\"Bearer {token}\"\n",
    "}\n",
    "response=requests.get(url=message_url, headers=hdrs)\n",
    "#print(response.status_code)\n",
    "#print(response.headers)\n",
    "message=response.json()[\"items\"]\n",
    "\n",
    "print(message[2]['personEmail'])\n",
    "message[2]['text']\n",
    "\n"
   ]
  }
 ],
 "metadata": {
  "interpreter": {
   "hash": "916dbcbb3f70747c44a77c7bcd40155683ae19c65e1c03b4aa3499c5328201f1"
  },
  "kernelspec": {
   "display_name": "Python 3.10.4 64-bit",
   "language": "python",
   "name": "python3"
  },
  "language_info": {
   "codemirror_mode": {
    "name": "ipython",
    "version": 3
   },
   "file_extension": ".py",
   "mimetype": "text/x-python",
   "name": "python",
   "nbconvert_exporter": "python",
   "pygments_lexer": "ipython3",
   "version": "3.10.4"
  },
  "orig_nbformat": 4
 },
 "nbformat": 4,
 "nbformat_minor": 2
}
